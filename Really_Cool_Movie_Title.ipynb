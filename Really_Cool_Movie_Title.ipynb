{
 "cells": [
  {
   "cell_type": "code",
   "execution_count": 17,
   "id": "91b7ccbd",
   "metadata": {},
   "outputs": [],
   "source": [
    "import requests\n",
    "import json\n",
    "from config import api_key\n",
    "from pprint import pprint\n",
    "import pandas as pd\n",
    "import csv\n",
    "import time"
   ]
  },
  {
   "cell_type": "code",
   "execution_count": 11,
   "id": "0a60ae21",
   "metadata": {},
   "outputs": [],
   "source": [
    "# Configuration of API variables\n",
    "url = \"http://www.omdbapi.com/?t=\"\n",
    "api_key = \"&apikey=\" + api_key\n",
    "\n",
    "# Query each movie title and append to movieDataList\n",
    "with open(\"Resources/MovieList.csv\", \"r\") as file:\n",
    "    \n",
    "    movies = file.readlines()\n",
    "    \n",
    "    for movie in movies:\n",
    "    \n",
    "        movie = movie.replace(\" \",\"+\")\n",
    "        queryURL = url + movie + api_key\n",
    "        \n",
    "        try:\n",
    "            \n",
    "            response = requests.get(queryURL).json()\n",
    "            \n",
    "            # create variables for Data Frame\n",
    "            movieTitle = response['Title']\n",
    "            #Ratings (imdb,rottenTom,metacritic)\n",
    "            #Genre\n",
    "            #BoxOffice\n",
    "            \n",
    "            \n",
    "        except:\n",
    "            print(f\"{movie} not found...skipping\")\n",
    "            pass"
   ]
  },
  {
   "cell_type": "code",
   "execution_count": 12,
   "id": "c63de1c6",
   "metadata": {},
   "outputs": [
    {
     "name": "stdout",
     "output_type": "stream",
     "text": [
      "2\n"
     ]
    }
   ],
   "source": [
    "print(len(movieDataList))"
   ]
  },
  {
   "cell_type": "code",
   "execution_count": null,
   "id": "9125ec0d",
   "metadata": {},
   "outputs": [],
   "source": []
  }
 ],
 "metadata": {
  "kernelspec": {
   "display_name": "Python 3 (ipykernel)",
   "language": "python",
   "name": "python3"
  },
  "language_info": {
   "codemirror_mode": {
    "name": "ipython",
    "version": 3
   },
   "file_extension": ".py",
   "mimetype": "text/x-python",
   "name": "python",
   "nbconvert_exporter": "python",
   "pygments_lexer": "ipython3",
   "version": "3.11.7"
  }
 },
 "nbformat": 4,
 "nbformat_minor": 5
}
