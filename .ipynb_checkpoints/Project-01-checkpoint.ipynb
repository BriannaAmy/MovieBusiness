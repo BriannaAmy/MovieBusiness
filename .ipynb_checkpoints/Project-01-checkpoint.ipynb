{
 "cells": [
  {
   "cell_type": "markdown",
   "metadata": {},
   "source": [
    "# Title Here"
   ]
  },
  {
   "cell_type": "code",
   "execution_count": 1,
   "metadata": {},
   "outputs": [],
   "source": [
    "import requests\n",
    "import json\n",
    "import pandas as pd\n",
    "from config import api_key\n",
    "from pprint import pprint\n",
    "import time"
   ]
  },
  {
   "cell_type": "code",
   "execution_count": 2,
   "metadata": {
    "scrolled": false
   },
   "outputs": [
    {
     "name": "stdout",
     "output_type": "stream",
     "text": [
      "{'Actors': 'Guy Kibbee, Gloria Warren, Helen Parrish',\n",
      " 'Awards': 'N/A',\n",
      " 'BoxOffice': 'N/A',\n",
      " 'Country': 'United States',\n",
      " 'DVD': 'N/A',\n",
      " 'Director': 'Christy Cabanne',\n",
      " 'Genre': 'Comedy, Drama, Musical',\n",
      " 'Language': 'English',\n",
      " 'Metascore': 'N/A',\n",
      " 'Plot': \"Scattergood Baines, Coldriver's most popular citizen, neighborly \"\n",
      "         'counselor and sly old fox, entices a Broadway producer to Coldriver '\n",
      "         'to see the gay musical extravaganza Baines is staging for the '\n",
      "         'benefit of the U.S.O. He is also pr...',\n",
      " 'Poster': 'https://m.media-amazon.com/images/M/MV5BNTdkZDcwZDktY2JmZi00NjEwLWE2MGItZjc2ZDNiYWRkZGMwXkEyXkFqcGdeQXVyMTY5Nzc4MDY@._V1_SX300.jpg',\n",
      " 'Production': 'N/A',\n",
      " 'Rated': 'Approved',\n",
      " 'Ratings': [{'Source': 'Internet Movie Database', 'Value': '6.5/10'}],\n",
      " 'Released': '22 Jan 1943',\n",
      " 'Response': 'True',\n",
      " 'Runtime': '69 min',\n",
      " 'Title': 'Cinderella Swings It',\n",
      " 'Type': 'movie',\n",
      " 'Website': 'N/A',\n",
      " 'Writer': 'Clarence Budington Kelland, Michael L. Simmons',\n",
      " 'Year': '1943',\n",
      " 'imdbID': 'tt0035738',\n",
      " 'imdbRating': '6.5',\n",
      " 'imdbVotes': '29'}\n",
      "{'Actors': 'Hilary Duff, Heather Locklear, Aria Wallace',\n",
      " 'Awards': '2 wins & 3 nominations',\n",
      " 'BoxOffice': '$16,535,005',\n",
      " 'Country': 'United States',\n",
      " 'DVD': '12 Feb 2014',\n",
      " 'Director': 'Mark Rosman',\n",
      " 'Genre': 'Comedy, Family, Romance',\n",
      " 'Language': 'English',\n",
      " 'Metascore': '27',\n",
      " 'Plot': 'A lonely mother begins receiving romantic e-mails from a secret '\n",
      "         'admirer, unaware that this perfect man is really a creation of her '\n",
      "         'daughter who is trying to cheer her up.',\n",
      " 'Poster': 'https://m.media-amazon.com/images/M/MV5BZjQ1ZTk0MmMtOWQxZC00ZmFjLWFiY2YtZGZkZGZlYTY4NDZjXkEyXkFqcGdeQXVyNjc3MjQzNTI@._V1_SX300.jpg',\n",
      " 'Production': 'N/A',\n",
      " 'Rated': 'PG',\n",
      " 'Ratings': [{'Source': 'Internet Movie Database', 'Value': '5.4/10'},\n",
      "             {'Source': 'Rotten Tomatoes', 'Value': '6%'},\n",
      "             {'Source': 'Metacritic', 'Value': '27/100'}],\n",
      " 'Released': '17 Jun 2005',\n",
      " 'Response': 'True',\n",
      " 'Runtime': '100 min',\n",
      " 'Title': 'The Perfect Man',\n",
      " 'Type': 'movie',\n",
      " 'Website': 'N/A',\n",
      " 'Writer': 'Michael McQuown, Heather Robinson, Katie Torpey',\n",
      " 'Year': '2005',\n",
      " 'imdbID': 'tt0380623',\n",
      " 'imdbRating': '5.4',\n",
      " 'imdbVotes': '31,942'}\n",
      "{'Actors': 'Jim Bannon, Ross Hunter, Ken Curtis',\n",
      " 'Awards': 'N/A',\n",
      " 'BoxOffice': 'N/A',\n",
      " 'Country': 'United States',\n",
      " 'DVD': 'N/A',\n",
      " 'Director': 'D. Ross Lederman',\n",
      " 'Genre': 'Drama, War',\n",
      " 'Language': 'English',\n",
      " 'Metascore': 'N/A',\n",
      " 'Plot': 'An American submarine commanded by Captain Faversham (Jim Bannon) is '\n",
      "         'under orders to proceed to Korea via the Sea of Japan. After they '\n",
      "         'pick up an intelligence officer, Clayton Shepherd (Ross Hunter), '\n",
      "         'they learn that Japan has been...',\n",
      " 'Poster': 'https://m.media-amazon.com/images/M/MV5BZTJkYWRhYzMtNGU5Yi00MmY4LThjNjktZjQ5ZDMyMDZlMTBkXkEyXkFqcGdeQXVyMTY5Nzc4MDY@._V1_SX300.jpg',\n",
      " 'Production': 'N/A',\n",
      " 'Rated': 'Approved',\n",
      " 'Ratings': [{'Source': 'Internet Movie Database', 'Value': '5.3/10'}],\n",
      " 'Released': '27 Dec 1945',\n",
      " 'Response': 'True',\n",
      " 'Runtime': '61 min',\n",
      " 'Title': 'Out of the Depths',\n",
      " 'Type': 'movie',\n",
      " 'Website': 'N/A',\n",
      " 'Writer': 'Martin Berkeley, Ted Thomas, Aubrey Wisberg',\n",
      " 'Year': '1945',\n",
      " 'imdbID': 'tt0038817',\n",
      " 'imdbRating': '5.3',\n",
      " 'imdbVotes': '26'}\n",
      "{'Actors': 'Demi Moore, Rob Lowe, Andrew McCarthy',\n",
      " 'Awards': '1 win & 1 nomination',\n",
      " 'BoxOffice': '$37,803,872',\n",
      " 'Country': 'United States',\n",
      " 'DVD': '01 Apr 2010',\n",
      " 'Director': 'Joel Schumacher',\n",
      " 'Genre': 'Drama, Romance',\n",
      " 'Language': 'English',\n",
      " 'Metascore': '35',\n",
      " 'Plot': 'A group of friends, just out of college, struggle with adulthood.',\n",
      " 'Poster': 'https://m.media-amazon.com/images/M/MV5BOTFlOTYyZjktZWRlZi00MjJmLTkzOTItNDg3NDVhNWE4ZjBiXkEyXkFqcGdeQXVyMTUzMDUzNTI3._V1_SX300.jpg',\n",
      " 'Production': 'N/A',\n",
      " 'Rated': 'R',\n",
      " 'Ratings': [{'Source': 'Internet Movie Database', 'Value': '6.4/10'},\n",
      "             {'Source': 'Rotten Tomatoes', 'Value': '42%'},\n",
      "             {'Source': 'Metacritic', 'Value': '35/100'}],\n",
      " 'Released': '28 Jun 1985',\n",
      " 'Response': 'True',\n",
      " 'Runtime': '110 min',\n",
      " 'Title': \"St. Elmo's Fire\",\n",
      " 'Type': 'movie',\n",
      " 'Website': 'N/A',\n",
      " 'Writer': 'Joel Schumacher, Carl Kurlander',\n",
      " 'Year': '1985',\n",
      " 'imdbID': 'tt0090060',\n",
      " 'imdbRating': '6.4',\n",
      " 'imdbVotes': '46,397'}\n",
      "{'Actors': 'Brad Pitt, Frances McDormand, George Clooney',\n",
      " 'Awards': 'Nominated for 3 BAFTA 8 wins & 32 nominations total',\n",
      " 'BoxOffice': '$60,355,347',\n",
      " 'Country': 'United States, United Kingdom, France',\n",
      " 'DVD': '01 Dec 2015',\n",
      " 'Director': 'Ethan Coen, Joel Coen',\n",
      " 'Genre': 'Comedy, Crime, Drama',\n",
      " 'Language': 'English',\n",
      " 'Metascore': '63',\n",
      " 'Plot': 'A disk containing mysterious information from a CIA agent ends up in '\n",
      "         'the hands of two unscrupulous and daft gym employees who attempt to '\n",
      "         'sell it.',\n",
      " 'Poster': 'https://m.media-amazon.com/images/M/MV5BYzYwMjZhOGEtMGZlZS00Mjg1LTlkMDktYzJiZDU4MzAxZDRiXkEyXkFqcGdeQXVyMTMxODk2OTU@._V1_SX300.jpg',\n",
      " 'Production': 'N/A',\n",
      " 'Rated': 'R',\n",
      " 'Ratings': [{'Source': 'Internet Movie Database', 'Value': '7.0/10'},\n",
      "             {'Source': 'Rotten Tomatoes', 'Value': '78%'},\n",
      "             {'Source': 'Metacritic', 'Value': '63/100'}],\n",
      " 'Released': '12 Sep 2008',\n",
      " 'Response': 'True',\n",
      " 'Runtime': '96 min',\n",
      " 'Title': 'Burn After Reading',\n",
      " 'Type': 'movie',\n",
      " 'Website': 'N/A',\n",
      " 'Writer': 'Joel Coen, Ethan Coen',\n",
      " 'Year': '2008',\n",
      " 'imdbID': 'tt0887883',\n",
      " 'imdbRating': '7.0',\n",
      " 'imdbVotes': '353,236'}\n"
     ]
    }
   ],
   "source": [
    "url = \"http://www.omdbapi.com/?t=\"\n",
    "api_key = \"&apikey=\" + api_key\n",
    "with open(\"MovieList.csv\", 'r') as file:\n",
    "    movies = file.readlines()\n",
    "    # Just 5 movies for testing\n",
    "    for movie in movies[0:5]:\n",
    "        movie = movie.replace(\" \",\"+\")\n",
    "        try:\n",
    "            response = requests.get(url + movie + api_key)\n",
    "            filmData = response.json()\n",
    "            pprint(filmData)\n",
    "        except:\n",
    "            print(f\"Skipping... {movie}\")\n",
    "        time.sleep(3)"
   ]
  },
  {
   "cell_type": "code",
   "execution_count": null,
   "metadata": {},
   "outputs": [],
   "source": []
  },
  {
   "cell_type": "code",
   "execution_count": null,
   "metadata": {},
   "outputs": [],
   "source": []
  },
  {
   "cell_type": "code",
   "execution_count": null,
   "metadata": {},
   "outputs": [],
   "source": []
  },
  {
   "cell_type": "code",
   "execution_count": null,
   "metadata": {},
   "outputs": [],
   "source": []
  },
  {
   "cell_type": "code",
   "execution_count": null,
   "metadata": {},
   "outputs": [],
   "source": []
  },
  {
   "cell_type": "code",
   "execution_count": null,
   "metadata": {},
   "outputs": [],
   "source": []
  },
  {
   "cell_type": "code",
   "execution_count": null,
   "metadata": {},
   "outputs": [],
   "source": []
  },
  {
   "cell_type": "code",
   "execution_count": 3,
   "metadata": {},
   "outputs": [],
   "source": [
    "import time"
   ]
  },
  {
   "cell_type": "code",
   "execution_count": 4,
   "metadata": {},
   "outputs": [
    {
     "name": "stdout",
     "output_type": "stream",
     "text": [
      "0\n",
      "1\n",
      "2\n",
      "3\n",
      "4\n"
     ]
    }
   ],
   "source": [
    "for i in range(5):\n",
    "    print(i)\n",
    "    time.sleep(3)"
   ]
  },
  {
   "cell_type": "code",
   "execution_count": null,
   "metadata": {},
   "outputs": [],
   "source": []
  },
  {
   "cell_type": "code",
   "execution_count": null,
   "metadata": {},
   "outputs": [],
   "source": []
  }
 ],
 "metadata": {
  "kernelspec": {
   "display_name": "Python 3 (ipykernel)",
   "language": "python",
   "name": "python3"
  },
  "language_info": {
   "codemirror_mode": {
    "name": "ipython",
    "version": 3
   },
   "file_extension": ".py",
   "mimetype": "text/x-python",
   "name": "python",
   "nbconvert_exporter": "python",
   "pygments_lexer": "ipython3",
   "version": "3.11.7"
  }
 },
 "nbformat": 4,
 "nbformat_minor": 4
}
