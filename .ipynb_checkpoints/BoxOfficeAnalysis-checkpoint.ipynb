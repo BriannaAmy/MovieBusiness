{
 "cells": [
  {
   "cell_type": "code",
   "execution_count": 1,
   "id": "e0b70cd1",
   "metadata": {},
   "outputs": [],
   "source": [
    "import pandas as pd\n",
    "import csv\n",
    "import numpy as np\n",
    "import matplotlib.pyplot as plt\n",
    "import scipy.stats as st"
   ]
  },
  {
   "cell_type": "code",
   "execution_count": 2,
   "id": "6612bc2e",
   "metadata": {},
   "outputs": [
    {
     "data": {
      "text/html": [
       "<div>\n",
       "<style scoped>\n",
       "    .dataframe tbody tr th:only-of-type {\n",
       "        vertical-align: middle;\n",
       "    }\n",
       "\n",
       "    .dataframe tbody tr th {\n",
       "        vertical-align: top;\n",
       "    }\n",
       "\n",
       "    .dataframe thead th {\n",
       "        text-align: right;\n",
       "    }\n",
       "</style>\n",
       "<table border=\"1\" class=\"dataframe\">\n",
       "  <thead>\n",
       "    <tr style=\"text-align: right;\">\n",
       "      <th></th>\n",
       "      <th>Movie Title</th>\n",
       "      <th>Genre</th>\n",
       "      <th>Runtime (min)</th>\n",
       "      <th>Box Office ($)</th>\n",
       "      <th>Metacritic Rating</th>\n",
       "      <th>IMDb Rating</th>\n",
       "      <th>Release Year</th>\n",
       "    </tr>\n",
       "  </thead>\n",
       "  <tbody>\n",
       "    <tr>\n",
       "      <th>0</th>\n",
       "      <td>Cinderella Swings It</td>\n",
       "      <td>Comedy, Drama, Musical</td>\n",
       "      <td>69 min</td>\n",
       "      <td>NaN</td>\n",
       "      <td>NaN</td>\n",
       "      <td>6.5</td>\n",
       "      <td>1943</td>\n",
       "    </tr>\n",
       "    <tr>\n",
       "      <th>1</th>\n",
       "      <td>The Perfect Man</td>\n",
       "      <td>Comedy, Family, Romance</td>\n",
       "      <td>100 min</td>\n",
       "      <td>$16,535,005</td>\n",
       "      <td>27.0</td>\n",
       "      <td>5.4</td>\n",
       "      <td>2005</td>\n",
       "    </tr>\n",
       "    <tr>\n",
       "      <th>2</th>\n",
       "      <td>Out of the Depths</td>\n",
       "      <td>Drama, War</td>\n",
       "      <td>61 min</td>\n",
       "      <td>NaN</td>\n",
       "      <td>NaN</td>\n",
       "      <td>5.3</td>\n",
       "      <td>1945</td>\n",
       "    </tr>\n",
       "    <tr>\n",
       "      <th>3</th>\n",
       "      <td>St. Elmo's Fire</td>\n",
       "      <td>Drama, Romance</td>\n",
       "      <td>110 min</td>\n",
       "      <td>$37,803,872</td>\n",
       "      <td>35.0</td>\n",
       "      <td>6.4</td>\n",
       "      <td>1985</td>\n",
       "    </tr>\n",
       "    <tr>\n",
       "      <th>4</th>\n",
       "      <td>Burn After Reading</td>\n",
       "      <td>Comedy, Crime, Drama</td>\n",
       "      <td>96 min</td>\n",
       "      <td>$60,355,347</td>\n",
       "      <td>63.0</td>\n",
       "      <td>7.0</td>\n",
       "      <td>2008</td>\n",
       "    </tr>\n",
       "  </tbody>\n",
       "</table>\n",
       "</div>"
      ],
      "text/plain": [
       "            Movie Title                    Genre Runtime (min) Box Office ($)  \\\n",
       "0  Cinderella Swings It   Comedy, Drama, Musical        69 min            NaN   \n",
       "1       The Perfect Man  Comedy, Family, Romance       100 min    $16,535,005   \n",
       "2     Out of the Depths               Drama, War        61 min            NaN   \n",
       "3       St. Elmo's Fire           Drama, Romance       110 min    $37,803,872   \n",
       "4    Burn After Reading     Comedy, Crime, Drama        96 min    $60,355,347   \n",
       "\n",
       "   Metacritic Rating  IMDb Rating Release Year  \n",
       "0                NaN          6.5         1943  \n",
       "1               27.0          5.4         2005  \n",
       "2                NaN          5.3         1945  \n",
       "3               35.0          6.4         1985  \n",
       "4               63.0          7.0         2008  "
      ]
     },
     "execution_count": 2,
     "metadata": {},
     "output_type": "execute_result"
    }
   ],
   "source": [
    "movieDataDF = pd.read_csv(\"Resources/Initial_Movie_Data_Dataframe.csv\")\n",
    "movieDataDF.head()"
   ]
  },
  {
   "cell_type": "code",
   "execution_count": 3,
   "id": "3017aa80",
   "metadata": {},
   "outputs": [
    {
     "data": {
      "text/html": [
       "<div>\n",
       "<style scoped>\n",
       "    .dataframe tbody tr th:only-of-type {\n",
       "        vertical-align: middle;\n",
       "    }\n",
       "\n",
       "    .dataframe tbody tr th {\n",
       "        vertical-align: top;\n",
       "    }\n",
       "\n",
       "    .dataframe thead th {\n",
       "        text-align: right;\n",
       "    }\n",
       "</style>\n",
       "<table border=\"1\" class=\"dataframe\">\n",
       "  <thead>\n",
       "    <tr style=\"text-align: right;\">\n",
       "      <th></th>\n",
       "      <th>Box Office ($)</th>\n",
       "      <th>Release Year</th>\n",
       "    </tr>\n",
       "  </thead>\n",
       "  <tbody>\n",
       "    <tr>\n",
       "      <th>0</th>\n",
       "      <td>NaN</td>\n",
       "      <td>1943</td>\n",
       "    </tr>\n",
       "    <tr>\n",
       "      <th>1</th>\n",
       "      <td>$16,535,005</td>\n",
       "      <td>2005</td>\n",
       "    </tr>\n",
       "    <tr>\n",
       "      <th>2</th>\n",
       "      <td>NaN</td>\n",
       "      <td>1945</td>\n",
       "    </tr>\n",
       "    <tr>\n",
       "      <th>3</th>\n",
       "      <td>$37,803,872</td>\n",
       "      <td>1985</td>\n",
       "    </tr>\n",
       "    <tr>\n",
       "      <th>4</th>\n",
       "      <td>$60,355,347</td>\n",
       "      <td>2008</td>\n",
       "    </tr>\n",
       "  </tbody>\n",
       "</table>\n",
       "</div>"
      ],
      "text/plain": [
       "  Box Office ($) Release Year\n",
       "0            NaN         1943\n",
       "1    $16,535,005         2005\n",
       "2            NaN         1945\n",
       "3    $37,803,872         1985\n",
       "4    $60,355,347         2008"
      ]
     },
     "execution_count": 3,
     "metadata": {},
     "output_type": "execute_result"
    }
   ],
   "source": [
    "boxOfficeDF = movieDataDF[[\"Box Office ($)\", \"Release Year\"]]\n",
    "boxOfficeDF.head()"
   ]
  },
  {
   "cell_type": "code",
   "execution_count": 4,
   "id": "1b7ce3c3",
   "metadata": {},
   "outputs": [
    {
     "data": {
      "text/html": [
       "<div>\n",
       "<style scoped>\n",
       "    .dataframe tbody tr th:only-of-type {\n",
       "        vertical-align: middle;\n",
       "    }\n",
       "\n",
       "    .dataframe tbody tr th {\n",
       "        vertical-align: top;\n",
       "    }\n",
       "\n",
       "    .dataframe thead th {\n",
       "        text-align: right;\n",
       "    }\n",
       "</style>\n",
       "<table border=\"1\" class=\"dataframe\">\n",
       "  <thead>\n",
       "    <tr style=\"text-align: right;\">\n",
       "      <th></th>\n",
       "      <th>Box Office ($)</th>\n",
       "      <th>Release Year</th>\n",
       "    </tr>\n",
       "  </thead>\n",
       "  <tbody>\n",
       "    <tr>\n",
       "      <th>0</th>\n",
       "      <td>$16,535,005</td>\n",
       "      <td>2005</td>\n",
       "    </tr>\n",
       "    <tr>\n",
       "      <th>1</th>\n",
       "      <td>$37,803,872</td>\n",
       "      <td>1985</td>\n",
       "    </tr>\n",
       "    <tr>\n",
       "      <th>2</th>\n",
       "      <td>$60,355,347</td>\n",
       "      <td>2008</td>\n",
       "    </tr>\n",
       "    <tr>\n",
       "      <th>3</th>\n",
       "      <td>$235,011</td>\n",
       "      <td>1989</td>\n",
       "    </tr>\n",
       "    <tr>\n",
       "      <th>4</th>\n",
       "      <td>$8,135,024</td>\n",
       "      <td>2007</td>\n",
       "    </tr>\n",
       "  </tbody>\n",
       "</table>\n",
       "</div>"
      ],
      "text/plain": [
       "  Box Office ($) Release Year\n",
       "0    $16,535,005         2005\n",
       "1    $37,803,872         1985\n",
       "2    $60,355,347         2008\n",
       "3       $235,011         1989\n",
       "4     $8,135,024         2007"
      ]
     },
     "execution_count": 4,
     "metadata": {},
     "output_type": "execute_result"
    }
   ],
   "source": [
    "boxOfficeDF = boxOfficeDF.dropna()\n",
    "boxOfficeDF = boxOfficeDF.reset_index(drop=True)\n",
    "boxOfficeDF.head()"
   ]
  },
  {
   "cell_type": "code",
   "execution_count": 5,
   "id": "e364cdce",
   "metadata": {},
   "outputs": [
    {
     "data": {
      "text/html": [
       "<div>\n",
       "<style scoped>\n",
       "    .dataframe tbody tr th:only-of-type {\n",
       "        vertical-align: middle;\n",
       "    }\n",
       "\n",
       "    .dataframe tbody tr th {\n",
       "        vertical-align: top;\n",
       "    }\n",
       "\n",
       "    .dataframe thead th {\n",
       "        text-align: right;\n",
       "    }\n",
       "</style>\n",
       "<table border=\"1\" class=\"dataframe\">\n",
       "  <thead>\n",
       "    <tr style=\"text-align: right;\">\n",
       "      <th></th>\n",
       "      <th>Box Office ($)</th>\n",
       "      <th>Release Year</th>\n",
       "    </tr>\n",
       "  </thead>\n",
       "  <tbody>\n",
       "    <tr>\n",
       "      <th>0</th>\n",
       "      <td>16535005.0</td>\n",
       "      <td>2005</td>\n",
       "    </tr>\n",
       "    <tr>\n",
       "      <th>1</th>\n",
       "      <td>37803872.0</td>\n",
       "      <td>1985</td>\n",
       "    </tr>\n",
       "    <tr>\n",
       "      <th>2</th>\n",
       "      <td>60355347.0</td>\n",
       "      <td>2008</td>\n",
       "    </tr>\n",
       "    <tr>\n",
       "      <th>3</th>\n",
       "      <td>235011.0</td>\n",
       "      <td>1989</td>\n",
       "    </tr>\n",
       "    <tr>\n",
       "      <th>4</th>\n",
       "      <td>8135024.0</td>\n",
       "      <td>2007</td>\n",
       "    </tr>\n",
       "  </tbody>\n",
       "</table>\n",
       "</div>"
      ],
      "text/plain": [
       "   Box Office ($)  Release Year\n",
       "0      16535005.0          2005\n",
       "1      37803872.0          1985\n",
       "2      60355347.0          2008\n",
       "3        235011.0          1989\n",
       "4       8135024.0          2007"
      ]
     },
     "execution_count": 5,
     "metadata": {},
     "output_type": "execute_result"
    }
   ],
   "source": [
    "boxOfficeDF[\"Box Office ($)\"] = boxOfficeDF[\"Box Office ($)\"].str.replace(\"$\",\"\")\n",
    "boxOfficeDF[\"Box Office ($)\"] = boxOfficeDF[\"Box Office ($)\"].str.replace(\",\",\"\").astype('float')\n",
    "boxOfficeDF[\"Release Year\"] = boxOfficeDF[\"Release Year\"].astype(int)\n",
    "boxOfficeDF.head()"
   ]
  },
  {
   "cell_type": "code",
   "execution_count": 16,
   "id": "eeca0b2b",
   "metadata": {},
   "outputs": [
    {
     "name": "stdout",
     "output_type": "stream",
     "text": [
      "The correlation coefficient bewteen the year and box office is 0.24.\n"
     ]
    },
    {
     "data": {
      "image/png": "[encoded data removed]",
      "text/plain": [
       "<Figure size 640x480 with 1 Axes>"
      ]
     },
     "metadata": {},
     "output_type": "display_data"
    }
   ],
   "source": [
    "boxOffice = boxOfficeDF[\"Box Office ($)\"]\n",
    "year = boxOfficeDF[\"Release Year\"]\n",
    "(slope, intercept, rvalue, pvalue, stderr) = st.linregress(year, boxOffice)\n",
    "regressVals = year * slope + intercept\n",
    "lineEQ = \"y = \" + str(round(slope,2)) + \"x + \" + str(round(intercept,2))\n",
    "\n",
    "\n",
    "plt.scatter(year, boxOffice, edgecolor=\"black\", color=\"purple\")\n",
    "plt.plot(year,regressVals, \"r-\")\n",
    "plt.annotate(lineEQ, (1930,300000000), fontsize=15, color=\"red\")\n",
    "plt.xlabel(\"Release Year\")\n",
    "plt.ylabel(\"Box Office ($)\")\n",
    "plt.title(\"Box Office vs. Release Year\")\n",
    "print(f\"The correlation coefficient bewteen the year and box office is {round(rvalue,2)}.\")\n",
    "plt.savefig(\"Visualizations/BoxOffice-Year.png\")\n",
    "plt.show()"
   ]
  },
  {
   "cell_type": "code",
   "execution_count": null,
   "id": "a9c75e5d",
   "metadata": {},
   "outputs": [],
   "source": []
  }
 ],
 "metadata": {
  "kernelspec": {
   "display_name": "Python 3 (ipykernel)",
   "language": "python",
   "name": "python3"
  },
  "language_info": {
   "codemirror_mode": {
    "name": "ipython",
    "version": 3
   },
   "file_extension": ".py",
   "mimetype": "text/x-python",
   "name": "python",
   "nbconvert_exporter": "python",
   "pygments_lexer": "ipython3",
   "version": "3.11.7"
  }
 },
 "nbformat": 4,
 "nbformat_minor": 5
}
